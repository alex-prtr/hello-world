{
    "cells": [
        {
            "metadata": {},
            "cell_type": "markdown",
            "source": "# Description\nThis notebook analyzes and visualizes precipitation data"
        },
        {
            "metadata": {
                "scrolled": false
            },
            "cell_type": "code",
            "source": "\nimport os, types\nimport pandas as pd\nfrom botocore.client import Config\nimport ibm_boto3\n\ndef __iter__(self): return 0\n\n# @hidden_cell\n# The following code accesses a file in your IBM Cloud Object Storage. It includes your credentials.\n# You might want to remove those credentials before you share the notebook.\nclient_912561282a76475f919424d2f7f019d3 = ibm_boto3.client(service_name='s3',\n    ibm_api_key_id='xxxxxxxxxxxxxxxxxxxxxxxxxx',\n    ibm_auth_endpoint=\"https://iam.cloud.ibm.com/oidc/token\",\n    config=Config(signature_version='oauth'),\n    endpoint_url='https://s3.private.us.cloud-object-storage.appdomain.cloud')\n\nbody = client_912561282a76475f919424d2f7f019d3.get_object(Bucket='learning-donotdelete-pr-ptbma9lnoirbyp',Key='precipitation.csv')['Body']\n# add missing __iter__ method, so pandas accepts body as file-like object\nif not hasattr(body, \"__iter__\"): body.__iter__ = types.MethodType( __iter__, body )\n\ndf_data_1 = pd.read_csv(body)\ndf_data_1.head()\n",
            "execution_count": 3,
            "outputs": [
                {
                    "output_type": "execute_result",
                    "execution_count": 3,
                    "data": {
                        "text/plain": "   CountryID              Country Source     1990     1995     1996     1997  \\\n0          8              Albania      E      ...      ...      ...   42,700   \n1         12              Algeria      U  275,681  376,972  194,723  217,926   \n2         20              Andorra      U      472      425      625      445   \n3        660             Anguilla      U       93      101      ...      ...   \n4         28  Antigua and Barbuda      U      300      375      323      279   \n\n      1998     1999     2000  ...     2010     2011     2012     2013  \\\n0   42,700   42,700      ...  ...   51,134   20,569   43,050   30,615   \n1  198,905  213,388  157,559  ...  373,310  291,256  285,533  276,259   \n2      361      481      490  ...      424      355      353      483   \n3      ...      ...       68  ...      ...      ...      ...      ...   \n4      385      427      250  ...      464      450      279      328   \n\n      2014     2015     2016     2017    2018 2019  \n0   37,172   32,711   38,810   32,224  43,950  ...  \n1  237,403  238,030  181,922  330,957     ...  ...  \n2      552      475      477      483     542  551  \n3      ...      ...      ...      ...     ...  ...  \n4      258      161      328      322     233  276  \n\n[5 rows x 29 columns]",
                        "text/html": "<div>\n<style scoped>\n    .dataframe tbody tr th:only-of-type {\n        vertical-align: middle;\n    }\n\n    .dataframe tbody tr th {\n        vertical-align: top;\n    }\n\n    .dataframe thead th {\n        text-align: right;\n    }\n</style>\n<table border=\"1\" class=\"dataframe\">\n  <thead>\n    <tr style=\"text-align: right;\">\n      <th></th>\n      <th>CountryID</th>\n      <th>Country</th>\n      <th>Source</th>\n      <th>1990</th>\n      <th>1995</th>\n      <th>1996</th>\n      <th>1997</th>\n      <th>1998</th>\n      <th>1999</th>\n      <th>2000</th>\n      <th>...</th>\n      <th>2010</th>\n      <th>2011</th>\n      <th>2012</th>\n      <th>2013</th>\n      <th>2014</th>\n      <th>2015</th>\n      <th>2016</th>\n      <th>2017</th>\n      <th>2018</th>\n      <th>2019</th>\n    </tr>\n  </thead>\n  <tbody>\n    <tr>\n      <th>0</th>\n      <td>8</td>\n      <td>Albania</td>\n      <td>E</td>\n      <td>...</td>\n      <td>...</td>\n      <td>...</td>\n      <td>42,700</td>\n      <td>42,700</td>\n      <td>42,700</td>\n      <td>...</td>\n      <td>...</td>\n      <td>51,134</td>\n      <td>20,569</td>\n      <td>43,050</td>\n      <td>30,615</td>\n      <td>37,172</td>\n      <td>32,711</td>\n      <td>38,810</td>\n      <td>32,224</td>\n      <td>43,950</td>\n      <td>...</td>\n    </tr>\n    <tr>\n      <th>1</th>\n      <td>12</td>\n      <td>Algeria</td>\n      <td>U</td>\n      <td>275,681</td>\n      <td>376,972</td>\n      <td>194,723</td>\n      <td>217,926</td>\n      <td>198,905</td>\n      <td>213,388</td>\n      <td>157,559</td>\n      <td>...</td>\n      <td>373,310</td>\n      <td>291,256</td>\n      <td>285,533</td>\n      <td>276,259</td>\n      <td>237,403</td>\n      <td>238,030</td>\n      <td>181,922</td>\n      <td>330,957</td>\n      <td>...</td>\n      <td>...</td>\n    </tr>\n    <tr>\n      <th>2</th>\n      <td>20</td>\n      <td>Andorra</td>\n      <td>U</td>\n      <td>472</td>\n      <td>425</td>\n      <td>625</td>\n      <td>445</td>\n      <td>361</td>\n      <td>481</td>\n      <td>490</td>\n      <td>...</td>\n      <td>424</td>\n      <td>355</td>\n      <td>353</td>\n      <td>483</td>\n      <td>552</td>\n      <td>475</td>\n      <td>477</td>\n      <td>483</td>\n      <td>542</td>\n      <td>551</td>\n    </tr>\n    <tr>\n      <th>3</th>\n      <td>660</td>\n      <td>Anguilla</td>\n      <td>U</td>\n      <td>93</td>\n      <td>101</td>\n      <td>...</td>\n      <td>...</td>\n      <td>...</td>\n      <td>...</td>\n      <td>68</td>\n      <td>...</td>\n      <td>...</td>\n      <td>...</td>\n      <td>...</td>\n      <td>...</td>\n      <td>...</td>\n      <td>...</td>\n      <td>...</td>\n      <td>...</td>\n      <td>...</td>\n      <td>...</td>\n    </tr>\n    <tr>\n      <th>4</th>\n      <td>28</td>\n      <td>Antigua and Barbuda</td>\n      <td>U</td>\n      <td>300</td>\n      <td>375</td>\n      <td>323</td>\n      <td>279</td>\n      <td>385</td>\n      <td>427</td>\n      <td>250</td>\n      <td>...</td>\n      <td>464</td>\n      <td>450</td>\n      <td>279</td>\n      <td>328</td>\n      <td>258</td>\n      <td>161</td>\n      <td>328</td>\n      <td>322</td>\n      <td>233</td>\n      <td>276</td>\n    </tr>\n  </tbody>\n</table>\n<p>5 rows \u00d7 29 columns</p>\n</div>"
                    },
                    "metadata": {}
                }
            ]
        },
        {
            "metadata": {},
            "cell_type": "code",
            "source": "",
            "execution_count": null,
            "outputs": []
        }
    ],
    "metadata": {
        "kernelspec": {
            "name": "python3",
            "display_name": "Python 3.9",
            "language": "python"
        },
        "language_info": {
            "name": "python",
            "version": "3.9.7",
            "mimetype": "text/x-python",
            "codemirror_mode": {
                "name": "ipython",
                "version": 3
            },
            "pygments_lexer": "ipython3",
            "nbconvert_exporter": "python",
            "file_extension": ".py"
        }
    },
    "nbformat": 4,
    "nbformat_minor": 1
}